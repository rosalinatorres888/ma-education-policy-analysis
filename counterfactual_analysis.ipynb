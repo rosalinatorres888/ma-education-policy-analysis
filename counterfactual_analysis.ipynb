{
 "cells": [
  {
   "cell_type": "code",
   "execution_count": 1,
   "id": "8b72ff7f-dc18-4188-aa4e-ca578242619e",
   "metadata": {},
   "outputs": [
    {
     "name": "stdout",
     "output_type": "stream",
     "text": [
      "======================================================================\n",
      "🚀 STARTING COUNTERFACTUAL ANALYSIS\n",
      "======================================================================\n",
      "\n",
      "🏃 RUNNING COMPLETE ANALYSIS...\n",
      "\n",
      "📊 Creating sample dataset...\n",
      "✅ Created 105 samples\n",
      "\n",
      "🤖 Training model...\n",
      "✅ Model trained with 9 features\n",
      "\n",
      "======================================================================\n",
      "🔮 COUNTERFACTUAL ANALYSIS - TESTING POLICY SCENARIOS\n",
      "======================================================================\n",
      "\n",
      "📍 BASELINE (National Average)\n",
      "   Current Score: 235.9\n",
      "\n",
      "------------------------------------------------------------\n",
      "📈 SCENARIO 1: Reduce Poverty by 20%\n",
      "   Changes: Poverty 12.5% → 10.0%, Child Poverty 16.0% → 12.8%\n",
      "   New Score: 238.7\n",
      "   Improvement: +2.8 points\n",
      "\n",
      "------------------------------------------------------------\n",
      "📚 SCENARIO 2: Increase Bachelor's Degrees by 25%\n",
      "   Changes: Bachelor's Degree 33.7% → 42.1%\n",
      "   New Score: 238.7\n",
      "   Improvement: +2.8 points\n",
      "\n",
      "------------------------------------------------------------\n",
      "💰 SCENARIO 3: Economic Growth Package\n",
      "   Changes: Income +20%, GDP +15%, Growth Rate 2.5% → 3.5%\n",
      "   New Score: 253.5\n",
      "   Improvement: +17.6 points\n",
      "\n",
      "------------------------------------------------------------\n",
      "⭐ SCENARIO 4: Adopt Massachusetts Model\n",
      "   Changes: Full Massachusetts economic profile\n",
      "   New Score: 252.0\n",
      "   Improvement: +16.1 points\n",
      "\n",
      "------------------------------------------------------------\n",
      "🚀 SCENARIO 5: Comprehensive Reform\n",
      "   Changes: Poverty -25%, Education +30%, Income +15%\n",
      "   New Score: 252.0\n",
      "   Improvement: +16.0 points\n",
      "\n",
      "📊 Creating visualization...\n"
     ]
    },
    {
     "data": {
      "application/vnd.plotly.v1+json": {
       "config": {
        "plotlyServerURL": "https://plot.ly"
       },
       "data": [
        {
         "marker": {
          "color": [
           "red",
           "green",
           "green",
           "green",
           "green",
           "green"
          ]
         },
         "text": [
          "235.9",
          "238.7",
          "238.7",
          "252.0",
          "252.0",
          "253.5"
         ],
         "textposition": "outside",
         "type": "bar",
         "x": [
          "Current Baseline",
          "Increase Education 25%",
          "Reduce Poverty 20%",
          "Comprehensive Reform",
          "Massachusetts Model",
          "Economic Growth"
         ],
         "xaxis": "x",
         "y": [
          235.93087612997815,
          238.68758906879015,
          238.73075548841496,
          251.9529271978406,
          252.02266390275108,
          253.50115809492152
         ],
         "yaxis": "y"
        },
        {
         "marker": {
          "color": [
           "green",
           "green",
           "green",
           "green",
           "green"
          ]
         },
         "text": [
          "+2.8",
          "+2.8",
          "+16.0",
          "+16.1",
          "+17.6"
         ],
         "textposition": "outside",
         "type": "bar",
         "x": [
          "Increase Education 25%",
          "Reduce Poverty 20%",
          "Comprehensive Reform",
          "Massachusetts Model",
          "Economic Growth"
         ],
         "xaxis": "x2",
         "y": {
          "_inputArray": {
           "0": 2.756712938812001,
           "1": 2.7998793584368116,
           "2": 16.022051067862463,
           "3": 16.091787772772932,
           "4": 17.570281964943376,
           "bdata": "wEJlg78NBkBA2ikmJ2YGQKhPhyOlBTBAgDtKZ38XMEAw7rT//ZExQA==",
           "dtype": "f8",
           "shape": "5"
          },
          "bdata": "wEJlg78NBkBA2ikmJ2YGQKhPhyOlBTBAgDtKZ38XMEAw7rT//ZExQA==",
          "dtype": "f8"
         },
         "yaxis": "y2"
        }
       ],
       "layout": {
        "annotations": [
         {
          "font": {
           "size": 16
          },
          "showarrow": false,
          "text": "Policy Scenario Scores",
          "x": 0.225,
          "xanchor": "center",
          "xref": "paper",
          "y": 1,
          "yanchor": "bottom",
          "yref": "paper"
         },
         {
          "font": {
           "size": 16
          },
          "showarrow": false,
          "text": "Improvement from Baseline",
          "x": 0.775,
          "xanchor": "center",
          "xref": "paper",
          "y": 1,
          "yanchor": "bottom",
          "yref": "paper"
         }
        ],
        "autosize": true,
        "showlegend": false,
        "template": {
         "data": {
          "bar": [
           {
            "error_x": {
             "color": "#2a3f5f"
            },
            "error_y": {
             "color": "#2a3f5f"
            },
            "marker": {
             "line": {
              "color": "#E5ECF6",
              "width": 0.5
             },
             "pattern": {
              "fillmode": "overlay",
              "size": 10,
              "solidity": 0.2
             }
            },
            "type": "bar"
           }
          ],
          "barpolar": [
           {
            "marker": {
             "line": {
              "color": "#E5ECF6",
              "width": 0.5
             },
             "pattern": {
              "fillmode": "overlay",
              "size": 10,
              "solidity": 0.2
             }
            },
            "type": "barpolar"
           }
          ],
          "carpet": [
           {
            "aaxis": {
             "endlinecolor": "#2a3f5f",
             "gridcolor": "white",
             "linecolor": "white",
             "minorgridcolor": "white",
             "startlinecolor": "#2a3f5f"
            },
            "baxis": {
             "endlinecolor": "#2a3f5f",
             "gridcolor": "white",
             "linecolor": "white",
             "minorgridcolor": "white",
             "startlinecolor": "#2a3f5f"
            },
            "type": "carpet"
           }
          ],
          "choropleth": [
           {
            "colorbar": {
             "outlinewidth": 0,
             "ticks": ""
            },
            "type": "choropleth"
           }
          ],
          "contour": [
           {
            "colorbar": {
             "outlinewidth": 0,
             "ticks": ""
            },
            "colorscale": [
             [
              0,
              "#0d0887"
             ],
             [
              0.1111111111111111,
              "#46039f"
             ],
             [
              0.2222222222222222,
              "#7201a8"
             ],
             [
              0.3333333333333333,
              "#9c179e"
             ],
             [
              0.4444444444444444,
              "#bd3786"
             ],
             [
              0.5555555555555556,
              "#d8576b"
             ],
             [
              0.6666666666666666,
              "#ed7953"
             ],
             [
              0.7777777777777778,
              "#fb9f3a"
             ],
             [
              0.8888888888888888,
              "#fdca26"
             ],
             [
              1,
              "#f0f921"
             ]
            ],
            "type": "contour"
           }
          ],
          "contourcarpet": [
           {
            "colorbar": {
             "outlinewidth": 0,
             "ticks": ""
            },
            "type": "contourcarpet"
           }
          ],
          "heatmap": [
           {
            "colorbar": {
             "outlinewidth": 0,
             "ticks": ""
            },
            "colorscale": [
             [
              0,
              "#0d0887"
             ],
             [
              0.1111111111111111,
              "#46039f"
             ],
             [
              0.2222222222222222,
              "#7201a8"
             ],
             [
              0.3333333333333333,
              "#9c179e"
             ],
             [
              0.4444444444444444,
              "#bd3786"
             ],
             [
              0.5555555555555556,
              "#d8576b"
             ],
             [
              0.6666666666666666,
              "#ed7953"
             ],
             [
              0.7777777777777778,
              "#fb9f3a"
             ],
             [
              0.8888888888888888,
              "#fdca26"
             ],
             [
              1,
              "#f0f921"
             ]
            ],
            "type": "heatmap"
           }
          ],
          "histogram": [
           {
            "marker": {
             "pattern": {
              "fillmode": "overlay",
              "size": 10,
              "solidity": 0.2
             }
            },
            "type": "histogram"
           }
          ],
          "histogram2d": [
           {
            "colorbar": {
             "outlinewidth": 0,
             "ticks": ""
            },
            "colorscale": [
             [
              0,
              "#0d0887"
             ],
             [
              0.1111111111111111,
              "#46039f"
             ],
             [
              0.2222222222222222,
              "#7201a8"
             ],
             [
              0.3333333333333333,
              "#9c179e"
             ],
             [
              0.4444444444444444,
              "#bd3786"
             ],
             [
              0.5555555555555556,
              "#d8576b"
             ],
             [
              0.6666666666666666,
              "#ed7953"
             ],
             [
              0.7777777777777778,
              "#fb9f3a"
             ],
             [
              0.8888888888888888,
              "#fdca26"
             ],
             [
              1,
              "#f0f921"
             ]
            ],
            "type": "histogram2d"
           }
          ],
          "histogram2dcontour": [
           {
            "colorbar": {
             "outlinewidth": 0,
             "ticks": ""
            },
            "colorscale": [
             [
              0,
              "#0d0887"
             ],
             [
              0.1111111111111111,
              "#46039f"
             ],
             [
              0.2222222222222222,
              "#7201a8"
             ],
             [
              0.3333333333333333,
              "#9c179e"
             ],
             [
              0.4444444444444444,
              "#bd3786"
             ],
             [
              0.5555555555555556,
              "#d8576b"
             ],
             [
              0.6666666666666666,
              "#ed7953"
             ],
             [
              0.7777777777777778,
              "#fb9f3a"
             ],
             [
              0.8888888888888888,
              "#fdca26"
             ],
             [
              1,
              "#f0f921"
             ]
            ],
            "type": "histogram2dcontour"
           }
          ],
          "mesh3d": [
           {
            "colorbar": {
             "outlinewidth": 0,
             "ticks": ""
            },
            "type": "mesh3d"
           }
          ],
          "parcoords": [
           {
            "line": {
             "colorbar": {
              "outlinewidth": 0,
              "ticks": ""
             }
            },
            "type": "parcoords"
           }
          ],
          "pie": [
           {
            "automargin": true,
            "type": "pie"
           }
          ],
          "scatter": [
           {
            "fillpattern": {
             "fillmode": "overlay",
             "size": 10,
             "solidity": 0.2
            },
            "type": "scatter"
           }
          ],
          "scatter3d": [
           {
            "line": {
             "colorbar": {
              "outlinewidth": 0,
              "ticks": ""
             }
            },
            "marker": {
             "colorbar": {
              "outlinewidth": 0,
              "ticks": ""
             }
            },
            "type": "scatter3d"
           }
          ],
          "scattercarpet": [
           {
            "marker": {
             "colorbar": {
              "outlinewidth": 0,
              "ticks": ""
             }
            },
            "type": "scattercarpet"
           }
          ],
          "scattergeo": [
           {
            "marker": {
             "colorbar": {
              "outlinewidth": 0,
              "ticks": ""
             }
            },
            "type": "scattergeo"
           }
          ],
          "scattergl": [
           {
            "marker": {
             "colorbar": {
              "outlinewidth": 0,
              "ticks": ""
             }
            },
            "type": "scattergl"
           }
          ],
          "scattermap": [
           {
            "marker": {
             "colorbar": {
              "outlinewidth": 0,
              "ticks": ""
             }
            },
            "type": "scattermap"
           }
          ],
          "scattermapbox": [
           {
            "marker": {
             "colorbar": {
              "outlinewidth": 0,
              "ticks": ""
             }
            },
            "type": "scattermapbox"
           }
          ],
          "scatterpolar": [
           {
            "marker": {
             "colorbar": {
              "outlinewidth": 0,
              "ticks": ""
             }
            },
            "type": "scatterpolar"
           }
          ],
          "scatterpolargl": [
           {
            "marker": {
             "colorbar": {
              "outlinewidth": 0,
              "ticks": ""
             }
            },
            "type": "scatterpolargl"
           }
          ],
          "scatterternary": [
           {
            "marker": {
             "colorbar": {
              "outlinewidth": 0,
              "ticks": ""
             }
            },
            "type": "scatterternary"
           }
          ],
          "surface": [
           {
            "colorbar": {
             "outlinewidth": 0,
             "ticks": ""
            },
            "colorscale": [
             [
              0,
              "#0d0887"
             ],
             [
              0.1111111111111111,
              "#46039f"
             ],
             [
              0.2222222222222222,
              "#7201a8"
             ],
             [
              0.3333333333333333,
              "#9c179e"
             ],
             [
              0.4444444444444444,
              "#bd3786"
             ],
             [
              0.5555555555555556,
              "#d8576b"
             ],
             [
              0.6666666666666666,
              "#ed7953"
             ],
             [
              0.7777777777777778,
              "#fb9f3a"
             ],
             [
              0.8888888888888888,
              "#fdca26"
             ],
             [
              1,
              "#f0f921"
             ]
            ],
            "type": "surface"
           }
          ],
          "table": [
           {
            "cells": {
             "fill": {
              "color": "#EBF0F8"
             },
             "line": {
              "color": "white"
             }
            },
            "header": {
             "fill": {
              "color": "#C8D4E3"
             },
             "line": {
              "color": "white"
             }
            },
            "type": "table"
           }
          ]
         },
         "layout": {
          "annotationdefaults": {
           "arrowcolor": "#2a3f5f",
           "arrowhead": 0,
           "arrowwidth": 1
          },
          "autotypenumbers": "strict",
          "coloraxis": {
           "colorbar": {
            "outlinewidth": 0,
            "ticks": ""
           }
          },
          "colorscale": {
           "diverging": [
            [
             0,
             "#8e0152"
            ],
            [
             0.1,
             "#c51b7d"
            ],
            [
             0.2,
             "#de77ae"
            ],
            [
             0.3,
             "#f1b6da"
            ],
            [
             0.4,
             "#fde0ef"
            ],
            [
             0.5,
             "#f7f7f7"
            ],
            [
             0.6,
             "#e6f5d0"
            ],
            [
             0.7,
             "#b8e186"
            ],
            [
             0.8,
             "#7fbc41"
            ],
            [
             0.9,
             "#4d9221"
            ],
            [
             1,
             "#276419"
            ]
           ],
           "sequential": [
            [
             0,
             "#0d0887"
            ],
            [
             0.1111111111111111,
             "#46039f"
            ],
            [
             0.2222222222222222,
             "#7201a8"
            ],
            [
             0.3333333333333333,
             "#9c179e"
            ],
            [
             0.4444444444444444,
             "#bd3786"
            ],
            [
             0.5555555555555556,
             "#d8576b"
            ],
            [
             0.6666666666666666,
             "#ed7953"
            ],
            [
             0.7777777777777778,
             "#fb9f3a"
            ],
            [
             0.8888888888888888,
             "#fdca26"
            ],
            [
             1,
             "#f0f921"
            ]
           ],
           "sequentialminus": [
            [
             0,
             "#0d0887"
            ],
            [
             0.1111111111111111,
             "#46039f"
            ],
            [
             0.2222222222222222,
             "#7201a8"
            ],
            [
             0.3333333333333333,
             "#9c179e"
            ],
            [
             0.4444444444444444,
             "#bd3786"
            ],
            [
             0.5555555555555556,
             "#d8576b"
            ],
            [
             0.6666666666666666,
             "#ed7953"
            ],
            [
             0.7777777777777778,
             "#fb9f3a"
            ],
            [
             0.8888888888888888,
             "#fdca26"
            ],
            [
             1,
             "#f0f921"
            ]
           ]
          },
          "colorway": [
           "#636efa",
           "#EF553B",
           "#00cc96",
           "#ab63fa",
           "#FFA15A",
           "#19d3f3",
           "#FF6692",
           "#B6E880",
           "#FF97FF",
           "#FECB52"
          ],
          "font": {
           "color": "#2a3f5f"
          },
          "geo": {
           "bgcolor": "white",
           "lakecolor": "white",
           "landcolor": "#E5ECF6",
           "showlakes": true,
           "showland": true,
           "subunitcolor": "white"
          },
          "hoverlabel": {
           "align": "left"
          },
          "hovermode": "closest",
          "mapbox": {
           "style": "light"
          },
          "paper_bgcolor": "white",
          "plot_bgcolor": "#E5ECF6",
          "polar": {
           "angularaxis": {
            "gridcolor": "white",
            "linecolor": "white",
            "ticks": ""
           },
           "bgcolor": "#E5ECF6",
           "radialaxis": {
            "gridcolor": "white",
            "linecolor": "white",
            "ticks": ""
           }
          },
          "scene": {
           "xaxis": {
            "backgroundcolor": "#E5ECF6",
            "gridcolor": "white",
            "gridwidth": 2,
            "linecolor": "white",
            "showbackground": true,
            "ticks": "",
            "zerolinecolor": "white"
           },
           "yaxis": {
            "backgroundcolor": "#E5ECF6",
            "gridcolor": "white",
            "gridwidth": 2,
            "linecolor": "white",
            "showbackground": true,
            "ticks": "",
            "zerolinecolor": "white"
           },
           "zaxis": {
            "backgroundcolor": "#E5ECF6",
            "gridcolor": "white",
            "gridwidth": 2,
            "linecolor": "white",
            "showbackground": true,
            "ticks": "",
            "zerolinecolor": "white"
           }
          },
          "shapedefaults": {
           "line": {
            "color": "#2a3f5f"
           }
          },
          "ternary": {
           "aaxis": {
            "gridcolor": "white",
            "linecolor": "white",
            "ticks": ""
           },
           "baxis": {
            "gridcolor": "white",
            "linecolor": "white",
            "ticks": ""
           },
           "bgcolor": "#E5ECF6",
           "caxis": {
            "gridcolor": "white",
            "linecolor": "white",
            "ticks": ""
           }
          },
          "title": {
           "x": 0.05
          },
          "xaxis": {
           "automargin": true,
           "gridcolor": "white",
           "linecolor": "white",
           "ticks": "",
           "title": {
            "standoff": 15
           },
           "zerolinecolor": "white",
           "zerolinewidth": 2
          },
          "yaxis": {
           "automargin": true,
           "gridcolor": "white",
           "linecolor": "white",
           "ticks": "",
           "title": {
            "standoff": 15
           },
           "zerolinecolor": "white",
           "zerolinewidth": 2
          }
         }
        },
        "title": {
         "text": "<b>Policy Scenario Analysis Results</b>"
        },
        "xaxis": {
         "anchor": "y",
         "autorange": true,
         "domain": [
          0,
          0.45
         ],
         "range": [
          -0.5,
          5.5
         ],
         "tickangle": 45,
         "type": "category"
        },
        "xaxis2": {
         "anchor": "y2",
         "autorange": true,
         "domain": [
          0.55,
          1
         ],
         "range": [
          -0.5,
          4.5
         ],
         "tickangle": 45,
         "type": "category"
        },
        "yaxis": {
         "anchor": "x",
         "autorange": true,
         "domain": [
          0,
          1
         ],
         "range": [
          0,
          266.84332431044373
         ],
         "title": {
          "text": "Education Score"
         },
         "type": "linear"
        },
        "yaxis2": {
         "anchor": "x2",
         "autorange": true,
         "domain": [
          0,
          1
         ],
         "range": [
          0,
          18.495033647308816
         ],
         "title": {
          "text": "Improvement (points)"
         },
         "type": "linear"
        }
       }
      },
      "image/png": "[encoded data removed]"
     },
     "metadata": {},
     "output_type": "display_data"
    },
    {
     "name": "stdout",
     "output_type": "stream",
     "text": [
      "\n",
      "======================================================================\n",
      "📋 ANALYSIS SUMMARY\n",
      "======================================================================\n",
      "\n",
      "🏆 RANKING OF POLICY INTERVENTIONS:\n",
      "--------------------------------------------------\n",
      "1. Economic Growth           | Improvement: +17.6 points\n",
      "2. Massachusetts Model       | Improvement: +16.1 points\n",
      "3. Comprehensive Reform      | Improvement: +16.0 points\n",
      "4. Reduce Poverty 20%        | Improvement: +2.8 points\n",
      "5. Increase Education 25%    | Improvement: +2.8 points\n",
      "\n",
      "💡 KEY INSIGHTS:\n",
      "• Best single intervention: Economic Growth\n",
      "• Maximum improvement potential: 17.6 points\n",
      "• All scenarios show positive impact on education scores\n",
      "\n",
      "✅ ANALYSIS COMPLETE!\n"
     ]
    }
   ],
   "source": [
    "# COMPLETE COUNTERFACTUAL ANALYSIS - READY TO RUN\n",
    "import pandas as pd\n",
    "import numpy as np\n",
    "import plotly.graph_objects as go\n",
    "from plotly.subplots import make_subplots\n",
    "from sklearn.ensemble import RandomForestRegressor\n",
    "from sklearn.preprocessing import StandardScaler\n",
    "import warnings\n",
    "warnings.filterwarnings('ignore')\n",
    "\n",
    "print(\"=\"*70)\n",
    "print(\"🚀 STARTING COUNTERFACTUAL ANALYSIS\")\n",
    "print(\"=\"*70)\n",
    "\n",
    "# Step 1: Create sample data (using your existing data structure)\n",
    "def create_sample_data():\n",
    "    \"\"\"Create sample dataset for demonstration\"\"\"\n",
    "    print(\"\\n📊 Creating sample dataset...\")\n",
    "    \n",
    "    base_data = []\n",
    "    states = ['Massachusetts', 'Connecticut', 'Texas', 'Florida', 'Alabama']\n",
    "    poverty_rates = [10.4, 8.1, 13.9, 12.7, 15.7]\n",
    "    education_rates = [45.7, 40.8, 30.7, 30.5, 26.2]\n",
    "    incomes = [101341, 88518, 73035, 67917, 59609]\n",
    "    \n",
    "    for i in range(len(states)):\n",
    "        # Original data\n",
    "        base_data.append({\n",
    "            'poverty_rate': poverty_rates[i],\n",
    "            'child_poverty_rate': poverty_rates[i] * 1.3,\n",
    "            'median_income': incomes[i],\n",
    "            'bachelor_degree_pct': education_rates[i],\n",
    "            'gdp_per_capita': incomes[i] * 0.9,\n",
    "            'gdp_growth_rate': 2.5 + np.random.normal(0, 0.5),\n",
    "            'education_score': 230 + education_rates[i] * 0.8 - poverty_rates[i] * 1.2\n",
    "        })\n",
    "        \n",
    "        # Add variations for training\n",
    "        for j in range(20):\n",
    "            base_data.append({\n",
    "                'poverty_rate': poverty_rates[i] * (1 + np.random.uniform(-0.2, 0.2)),\n",
    "                'child_poverty_rate': poverty_rates[i] * 1.3 * (1 + np.random.uniform(-0.2, 0.2)),\n",
    "                'median_income': incomes[i] * (1 + np.random.uniform(-0.1, 0.1)),\n",
    "                'bachelor_degree_pct': education_rates[i] * (1 + np.random.uniform(-0.1, 0.1)),\n",
    "                'gdp_per_capita': incomes[i] * 0.9 * (1 + np.random.uniform(-0.1, 0.1)),\n",
    "                'gdp_growth_rate': 2.5 + np.random.normal(0, 0.5),\n",
    "                'education_score': 230 + education_rates[i] * 0.8 - poverty_rates[i] * 1.2 + np.random.normal(0, 5)\n",
    "            })\n",
    "    \n",
    "    df = pd.DataFrame(base_data)\n",
    "    print(f\"✅ Created {len(df)} samples\")\n",
    "    return df\n",
    "\n",
    "# Step 2: Train a simple model\n",
    "def train_model(df):\n",
    "    \"\"\"Train RandomForest model\"\"\"\n",
    "    print(\"\\n🤖 Training model...\")\n",
    "    \n",
    "    features = ['poverty_rate', 'child_poverty_rate', 'median_income', \n",
    "                'bachelor_degree_pct', 'gdp_per_capita', 'gdp_growth_rate']\n",
    "    \n",
    "    X = df[features].copy()\n",
    "    y = df['education_score']\n",
    "    \n",
    "    # Add engineered features\n",
    "    X['poverty_education_interaction'] = X['poverty_rate'] * X['bachelor_degree_pct']\n",
    "    X['income_per_gdp'] = X['median_income'] / X['gdp_per_capita']\n",
    "    X['child_poverty_gap'] = X['child_poverty_rate'] - X['poverty_rate']\n",
    "    \n",
    "    # Scale features\n",
    "    scaler = StandardScaler()\n",
    "    X_scaled = scaler.fit_transform(X)\n",
    "    \n",
    "    # Train model\n",
    "    model = RandomForestRegressor(n_estimators=50, max_depth=10, random_state=42)\n",
    "    model.fit(X_scaled, y)\n",
    "    \n",
    "    print(f\"✅ Model trained with {len(X.columns)} features\")\n",
    "    return model, scaler, X.columns.tolist()\n",
    "\n",
    "# Step 3: Simple Counterfactual Analysis\n",
    "def simple_counterfactual_analysis(model, scaler, feature_names):\n",
    "    \"\"\"Run a simple counterfactual analysis with predefined scenarios\"\"\"\n",
    "    \n",
    "    print(\"\\n\" + \"=\"*70)\n",
    "    print(\"🔮 COUNTERFACTUAL ANALYSIS - TESTING POLICY SCENARIOS\")\n",
    "    print(\"=\"*70)\n",
    "    \n",
    "    # Current national average (baseline)\n",
    "    current_state = np.array([\n",
    "        12.5,    # poverty_rate\n",
    "        16.0,    # child_poverty_rate  \n",
    "        75149,   # median_income\n",
    "        33.7,    # bachelor_degree_pct\n",
    "        70000,   # gdp_per_capita\n",
    "        2.5,     # gdp_growth_rate\n",
    "        12.5 * 33.7,  # poverty_education_interaction\n",
    "        75149 / 70000,  # income_per_gdp\n",
    "        16.0 - 12.5  # child_poverty_gap\n",
    "    ])\n",
    "    \n",
    "    # Get baseline score\n",
    "    baseline_score = model.predict(scaler.transform(current_state.reshape(1, -1)))[0]\n",
    "    print(f\"\\n📍 BASELINE (National Average)\")\n",
    "    print(f\"   Current Score: {baseline_score:.1f}\")\n",
    "    \n",
    "    # Define policy scenarios\n",
    "    scenarios = []\n",
    "    \n",
    "    # Scenario 1: Reduce poverty by 20%\n",
    "    print(\"\\n\" + \"-\"*60)\n",
    "    print(\"📈 SCENARIO 1: Reduce Poverty by 20%\")\n",
    "    \n",
    "    scenario1 = current_state.copy()\n",
    "    scenario1[0] *= 0.8  # poverty_rate\n",
    "    scenario1[1] *= 0.8  # child_poverty_rate\n",
    "    # Recalculate engineered features\n",
    "    scenario1[6] = scenario1[0] * scenario1[3]  # poverty_education_interaction\n",
    "    scenario1[8] = scenario1[1] - scenario1[0]  # child_poverty_gap\n",
    "    \n",
    "    score1 = model.predict(scaler.transform(scenario1.reshape(1, -1)))[0]\n",
    "    improvement1 = score1 - baseline_score\n",
    "    \n",
    "    print(f\"   Changes: Poverty 12.5% → 10.0%, Child Poverty 16.0% → 12.8%\")\n",
    "    print(f\"   New Score: {score1:.1f}\")\n",
    "    print(f\"   Improvement: {improvement1:+.1f} points\")\n",
    "    \n",
    "    scenarios.append({\n",
    "        'Name': 'Reduce Poverty 20%',\n",
    "        'Score': score1,\n",
    "        'Improvement': improvement1\n",
    "    })\n",
    "    \n",
    "    # Scenario 2: Increase education by 25%\n",
    "    print(\"\\n\" + \"-\"*60)\n",
    "    print(\"📚 SCENARIO 2: Increase Bachelor's Degrees by 25%\")\n",
    "    \n",
    "    scenario2 = current_state.copy()\n",
    "    scenario2[3] *= 1.25  # bachelor_degree_pct\n",
    "    # Recalculate engineered features\n",
    "    scenario2[6] = scenario2[0] * scenario2[3]  # poverty_education_interaction\n",
    "    \n",
    "    score2 = model.predict(scaler.transform(scenario2.reshape(1, -1)))[0]\n",
    "    improvement2 = score2 - baseline_score\n",
    "    \n",
    "    print(f\"   Changes: Bachelor's Degree 33.7% → 42.1%\")\n",
    "    print(f\"   New Score: {score2:.1f}\")\n",
    "    print(f\"   Improvement: {improvement2:+.1f} points\")\n",
    "    \n",
    "    scenarios.append({\n",
    "        'Name': 'Increase Education 25%',\n",
    "        'Score': score2,\n",
    "        'Improvement': improvement2\n",
    "    })\n",
    "    \n",
    "    # Scenario 3: Economic growth package\n",
    "    print(\"\\n\" + \"-\"*60)\n",
    "    print(\"💰 SCENARIO 3: Economic Growth Package\")\n",
    "    \n",
    "    scenario3 = current_state.copy()\n",
    "    scenario3[2] *= 1.2   # median_income\n",
    "    scenario3[4] *= 1.15  # gdp_per_capita\n",
    "    scenario3[5] = 3.5    # gdp_growth_rate\n",
    "    # Recalculate engineered features\n",
    "    scenario3[7] = scenario3[2] / scenario3[4]  # income_per_gdp\n",
    "    \n",
    "    score3 = model.predict(scaler.transform(scenario3.reshape(1, -1)))[0]\n",
    "    improvement3 = score3 - baseline_score\n",
    "    \n",
    "    print(f\"   Changes: Income +20%, GDP +15%, Growth Rate 2.5% → 3.5%\")\n",
    "    print(f\"   New Score: {score3:.1f}\")\n",
    "    print(f\"   Improvement: {improvement3:+.1f} points\")\n",
    "    \n",
    "    scenarios.append({\n",
    "        'Name': 'Economic Growth',\n",
    "        'Score': score3,\n",
    "        'Improvement': improvement3\n",
    "    })\n",
    "    \n",
    "    # Scenario 4: Massachusetts model\n",
    "    print(\"\\n\" + \"-\"*60)\n",
    "    print(\"⭐ SCENARIO 4: Adopt Massachusetts Model\")\n",
    "    \n",
    "    scenario4 = np.array([\n",
    "        10.4,    # poverty_rate (MA level)\n",
    "        13.2,    # child_poverty_rate (MA level)\n",
    "        101341,  # median_income (MA level)\n",
    "        45.7,    # bachelor_degree_pct (MA level)\n",
    "        95000,   # gdp_per_capita (MA level)\n",
    "        2.8,     # gdp_growth_rate (MA level)\n",
    "        10.4 * 45.7,  # poverty_education_interaction\n",
    "        101341 / 95000,  # income_per_gdp\n",
    "        13.2 - 10.4  # child_poverty_gap\n",
    "    ])\n",
    "    \n",
    "    score4 = model.predict(scaler.transform(scenario4.reshape(1, -1)))[0]\n",
    "    improvement4 = score4 - baseline_score\n",
    "    \n",
    "    print(f\"   Changes: Full Massachusetts economic profile\")\n",
    "    print(f\"   New Score: {score4:.1f}\")\n",
    "    print(f\"   Improvement: {improvement4:+.1f} points\")\n",
    "    \n",
    "    scenarios.append({\n",
    "        'Name': 'Massachusetts Model',\n",
    "        'Score': score4,\n",
    "        'Improvement': improvement4\n",
    "    })\n",
    "    \n",
    "    # Scenario 5: Combined approach\n",
    "    print(\"\\n\" + \"-\"*60)\n",
    "    print(\"🚀 SCENARIO 5: Comprehensive Reform\")\n",
    "    \n",
    "    scenario5 = current_state.copy()\n",
    "    scenario5[0] *= 0.75  # poverty_rate -25%\n",
    "    scenario5[1] *= 0.75  # child_poverty_rate -25%\n",
    "    scenario5[2] *= 1.15  # median_income +15%\n",
    "    scenario5[3] *= 1.3   # bachelor_degree_pct +30%\n",
    "    scenario5[4] *= 1.1   # gdp_per_capita +10%\n",
    "    scenario5[5] = 3.0    # gdp_growth_rate\n",
    "    # Recalculate engineered features\n",
    "    scenario5[6] = scenario5[0] * scenario5[3]\n",
    "    scenario5[7] = scenario5[2] / scenario5[4]\n",
    "    scenario5[8] = scenario5[1] - scenario5[0]\n",
    "    \n",
    "    score5 = model.predict(scaler.transform(scenario5.reshape(1, -1)))[0]\n",
    "    improvement5 = score5 - baseline_score\n",
    "    \n",
    "    print(f\"   Changes: Poverty -25%, Education +30%, Income +15%\")\n",
    "    print(f\"   New Score: {score5:.1f}\")\n",
    "    print(f\"   Improvement: {improvement5:+.1f} points\")\n",
    "    \n",
    "    scenarios.append({\n",
    "        'Name': 'Comprehensive Reform',\n",
    "        'Score': score5,\n",
    "        'Improvement': improvement5\n",
    "    })\n",
    "    \n",
    "    return pd.DataFrame(scenarios), baseline_score\n",
    "\n",
    "# Step 4: Create visualization\n",
    "def create_scenario_visualization(scenarios_df, baseline_score):\n",
    "    \"\"\"Create visualization of scenarios\"\"\"\n",
    "    \n",
    "    print(\"\\n📊 Creating visualization...\")\n",
    "    \n",
    "    fig = make_subplots(\n",
    "        rows=1, cols=2,\n",
    "        subplot_titles=('Policy Scenario Scores', 'Improvement from Baseline'),\n",
    "        specs=[[{'type': 'bar'}, {'type': 'bar'}]]\n",
    "    )\n",
    "    \n",
    "    # Sort by score\n",
    "    scenarios_df = scenarios_df.sort_values('Score')\n",
    "    \n",
    "    # Add baseline to scores\n",
    "    all_names = ['Current Baseline'] + scenarios_df['Name'].tolist()\n",
    "    all_scores = [baseline_score] + scenarios_df['Score'].tolist()\n",
    "    \n",
    "    # Plot 1: Absolute scores\n",
    "    colors = ['red'] + ['green' if s > baseline_score else 'orange' for s in scenarios_df['Score']]\n",
    "    \n",
    "    fig.add_trace(\n",
    "        go.Bar(\n",
    "            x=all_names,\n",
    "            y=all_scores,\n",
    "            marker_color=colors,\n",
    "            text=[f'{s:.1f}' for s in all_scores],\n",
    "            textposition='outside'\n",
    "        ),\n",
    "        row=1, col=1\n",
    "    )\n",
    "    \n",
    "    # Plot 2: Improvements\n",
    "    fig.add_trace(\n",
    "        go.Bar(\n",
    "            x=scenarios_df['Name'],\n",
    "            y=scenarios_df['Improvement'],\n",
    "            marker_color=['green' if i > 0 else 'red' for i in scenarios_df['Improvement']],\n",
    "            text=[f'{i:+.1f}' for i in scenarios_df['Improvement']],\n",
    "            textposition='outside'\n",
    "        ),\n",
    "        row=1, col=2\n",
    "    )\n",
    "    \n",
    "    fig.update_layout(\n",
    "        height=500,\n",
    "        showlegend=False,\n",
    "        title_text=\"<b>Policy Scenario Analysis Results</b>\"\n",
    "    )\n",
    "    \n",
    "    fig.update_xaxes(tickangle=45)\n",
    "    fig.update_yaxes(title_text=\"Education Score\", row=1, col=1)\n",
    "    fig.update_yaxes(title_text=\"Improvement (points)\", row=1, col=2)\n",
    "    \n",
    "    fig.show()\n",
    "    \n",
    "    return fig\n",
    "\n",
    "# MAIN EXECUTION\n",
    "if __name__ == \"__main__\":\n",
    "    print(\"\\n🏃 RUNNING COMPLETE ANALYSIS...\")\n",
    "    \n",
    "    # Step 1: Create data\n",
    "    df = create_sample_data()\n",
    "    \n",
    "    # Step 2: Train model\n",
    "    model, scaler, feature_names = train_model(df)\n",
    "    \n",
    "    # Step 3: Run counterfactual analysis\n",
    "    scenarios_df, baseline_score = simple_counterfactual_analysis(model, scaler, feature_names)\n",
    "    \n",
    "    # Step 4: Create visualization\n",
    "    fig = create_scenario_visualization(scenarios_df, baseline_score)\n",
    "    \n",
    "    # Step 5: Print summary\n",
    "    print(\"\\n\" + \"=\"*70)\n",
    "    print(\"📋 ANALYSIS SUMMARY\")\n",
    "    print(\"=\"*70)\n",
    "    \n",
    "    print(\"\\n🏆 RANKING OF POLICY INTERVENTIONS:\")\n",
    "    print(\"-\" * 50)\n",
    "    \n",
    "    scenarios_sorted = scenarios_df.sort_values('Improvement', ascending=False)\n",
    "    for i, row in enumerate(scenarios_sorted.iterrows(), 1):\n",
    "        _, data = row\n",
    "        print(f\"{i}. {data['Name']:<25} | Improvement: {data['Improvement']:+.1f} points\")\n",
    "    \n",
    "    print(\"\\n💡 KEY INSIGHTS:\")\n",
    "    print(\"• Best single intervention:\", scenarios_sorted.iloc[0]['Name'])\n",
    "    print(f\"• Maximum improvement potential: {scenarios_sorted.iloc[0]['Improvement']:.1f} points\")\n",
    "    print(\"• All scenarios show positive impact on education scores\")\n",
    "    \n",
    "    print(\"\\n✅ ANALYSIS COMPLETE!\")"
   ]
  },
  {
   "cell_type": "code",
   "execution_count": null,
   "id": "9ea1bb2f-f77b-46d5-8888-1a793c025618",
   "metadata": {},
   "outputs": [],
   "source": []
  }
 ],
 "metadata": {
  "kernelspec": {
   "display_name": "Python (numpy_1.21_env)",
   "language": "python",
   "name": "numpy_1.21_env"
  },
  "language_info": {
   "codemirror_mode": {
    "name": "ipython",
    "version": 3
   },
   "file_extension": ".py",
   "mimetype": "text/x-python",
   "name": "python",
   "nbconvert_exporter": "python",
   "pygments_lexer": "ipython3",
   "version": "3.12.2"
  }
 },
 "nbformat": 4,
 "nbformat_minor": 5
}
